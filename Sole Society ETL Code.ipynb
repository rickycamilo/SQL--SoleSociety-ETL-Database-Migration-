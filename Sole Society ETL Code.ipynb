{
 "cells": [
  {
   "cell_type": "code",
   "execution_count": 945,
   "metadata": {},
   "outputs": [],
   "source": [
    "%%pip install pandas --upgrade\n",
    "%%pip install openpyxl --upgrade\n",
    "\n"
   ]
  },
  {
   "cell_type": "code",
   "execution_count": 946,
   "metadata": {},
   "outputs": [],
   "source": [
    "# importing pandas and psycopg2\n",
    "\n",
    "import pandas as pd\n",
    "import psycopg2\n"
   ]
  },
  {
   "cell_type": "code",
   "execution_count": 947,
   "metadata": {},
   "outputs": [],
   "source": [
    "# creating a function that connects to our original database to test our connection to postgres\n",
    "\n",
    "def create_database():\n",
    "    # connect to default database \n",
    "    conn = psycopg2.connect(\"host=localhost dbname=postgres user=postgres password=0609\")\n",
    "    conn.set_session(autocommit=True)\n",
    "    cur = conn.cursor()\n",
    "\n",
    "    # create sparkify database with UTF8 encoding\n",
    "    cur.execute(\"DROP DATABASE IF EXISTS solesociety\")\n",
    "    cur.execute(\"CREATE DATABASE solesociety\")\n",
    "\n",
    "    # close connection to default database\n",
    "    conn.close()\n",
    "\n",
    "    # connect to solesociety database\n",
    "    conn = psycopg2.connect(\"host=localhost dbname=solesociety user=postgres password=0609\")\n",
    "    cur = conn.cursor()\n",
    "\n",
    "    return cur, conn"
   ]
  },
  {
   "cell_type": "code",
   "execution_count": 948,
   "metadata": {},
   "outputs": [],
   "source": [
    "# running this will create the solesociety database\n",
    "\n",
    "cur, conn = create_database()"
   ]
  },
  {
   "cell_type": "code",
   "execution_count": 949,
   "metadata": {},
   "outputs": [],
   "source": [
    "# function that drops tables\n",
    "\n",
    "def drop_tables(cur, conn):\n",
    "    for query in drop_table_queries:\n",
    "        cur.execute(query)\n",
    "        conn.commit()"
   ]
  },
  {
   "cell_type": "code",
   "execution_count": 950,
   "metadata": {},
   "outputs": [],
   "source": [
    "# function that creates tables\n",
    "\n",
    "\n",
    "def create_tables(cur, conn):\n",
    "    for query in create_table_queries:\n",
    "        cur.execute(query)\n",
    "        conn.commit()"
   ]
  },
  {
   "cell_type": "code",
   "execution_count": 951,
   "metadata": {},
   "outputs": [],
   "source": [
    "# EXTRACT \n",
    "\n",
    "# pulling each sheet of the solesociety data spreadsheet as its df so we can easily insert into tables later\n",
    "\n",
    "style_df = pd.read_excel(\"/Users/rickycamilo/Desktop/PostgreSQL Bootcamp and SoleSociety ETL Project/SoleSociety ETL Migration SQL Project/SoleSociety Tables.xlsx\", sheet_name=\"style\")\n",
    "\n",
    "brand_df = pd.read_excel(\"/Users/rickycamilo/Desktop/PostgreSQL Bootcamp and SoleSociety ETL Project/SoleSociety ETL Migration SQL Project/SoleSociety Tables.xlsx\", sheet_name=\"brand\")\n",
    "\n",
    "customer_df = pd.read_excel(\"/Users/rickycamilo/Desktop/PostgreSQL Bootcamp and SoleSociety ETL Project/SoleSociety ETL Migration SQL Project/SoleSociety Tables.xlsx\", sheet_name=\"customer\")\n",
    "\n",
    "country_df = pd.read_excel(\"/Users/rickycamilo/Desktop/PostgreSQL Bootcamp and SoleSociety ETL Project/SoleSociety ETL Migration SQL Project/SoleSociety Tables.xlsx\", sheet_name=\"country\")\n",
    "\n",
    "address_df = pd.read_excel(\"/Users/rickycamilo/Desktop/PostgreSQL Bootcamp and SoleSociety ETL Project/SoleSociety ETL Migration SQL Project/SoleSociety Tables.xlsx\", sheet_name=\"address\")\n",
    "\n",
    "store_df = pd.read_excel(\"/Users/rickycamilo/Desktop/PostgreSQL Bootcamp and SoleSociety ETL Project/SoleSociety ETL Migration SQL Project/SoleSociety Tables.xlsx\", sheet_name=\"store\")\n",
    "\n",
    "staff_df = pd.read_excel(\"/Users/rickycamilo/Desktop/PostgreSQL Bootcamp and SoleSociety ETL Project/SoleSociety ETL Migration SQL Project/SoleSociety Tables.xlsx\", sheet_name=\"staff\")\n",
    "\n",
    "payment_df = pd.read_excel(\"/Users/rickycamilo/Desktop/PostgreSQL Bootcamp and SoleSociety ETL Project/SoleSociety ETL Migration SQL Project/SoleSociety Tables.xlsx\", sheet_name=\"payment\")\n",
    "\n",
    "sneaker_df = pd.read_excel(\"/Users/rickycamilo/Desktop/PostgreSQL Bootcamp and SoleSociety ETL Project/SoleSociety ETL Migration SQL Project/SoleSociety Tables.xlsx\", sheet_name=\"sneaker\")"
   ]
  },
  {
   "cell_type": "code",
   "execution_count": 952,
   "metadata": {},
   "outputs": [
    {
     "data": {
      "text/html": [
       "<div>\n",
       "<style scoped>\n",
       "    .dataframe tbody tr th:only-of-type {\n",
       "        vertical-align: middle;\n",
       "    }\n",
       "\n",
       "    .dataframe tbody tr th {\n",
       "        vertical-align: top;\n",
       "    }\n",
       "\n",
       "    .dataframe thead th {\n",
       "        text-align: right;\n",
       "    }\n",
       "</style>\n",
       "<table border=\"1\" class=\"dataframe\">\n",
       "  <thead>\n",
       "    <tr style=\"text-align: right;\">\n",
       "      <th></th>\n",
       "      <th>customer_id</th>\n",
       "      <th>store_id</th>\n",
       "      <th>address_id</th>\n",
       "      <th>customer_firstname</th>\n",
       "      <th>customer_lastname</th>\n",
       "      <th>email</th>\n",
       "      <th>create_date</th>\n",
       "    </tr>\n",
       "  </thead>\n",
       "  <tbody>\n",
       "    <tr>\n",
       "      <th>0</th>\n",
       "      <td>1</td>\n",
       "      <td>1</td>\n",
       "      <td>1</td>\n",
       "      <td>Francoise</td>\n",
       "      <td>Rautenstrauch</td>\n",
       "      <td>francoise.rautenstrauch@rautenstrauch.com</td>\n",
       "      <td>2023-09-09</td>\n",
       "    </tr>\n",
       "    <tr>\n",
       "      <th>1</th>\n",
       "      <td>2</td>\n",
       "      <td>1</td>\n",
       "      <td>2</td>\n",
       "      <td>Kendra</td>\n",
       "      <td>Loud</td>\n",
       "      <td>kloud@gmail.com</td>\n",
       "      <td>2023-09-10</td>\n",
       "    </tr>\n",
       "    <tr>\n",
       "      <th>2</th>\n",
       "      <td>3</td>\n",
       "      <td>2</td>\n",
       "      <td>3</td>\n",
       "      <td>Lourdes</td>\n",
       "      <td>Bauswell</td>\n",
       "      <td>lourdes_bauswell@aol.com</td>\n",
       "      <td>2023-09-11</td>\n",
       "    </tr>\n",
       "    <tr>\n",
       "      <th>3</th>\n",
       "      <td>4</td>\n",
       "      <td>5</td>\n",
       "      <td>4</td>\n",
       "      <td>Hannah</td>\n",
       "      <td>Edmison</td>\n",
       "      <td>hannah@yahoo.com</td>\n",
       "      <td>2023-09-12</td>\n",
       "    </tr>\n",
       "    <tr>\n",
       "      <th>4</th>\n",
       "      <td>5</td>\n",
       "      <td>4</td>\n",
       "      <td>5</td>\n",
       "      <td>Tom</td>\n",
       "      <td>Loeza</td>\n",
       "      <td>tom.loeza@gmail.com</td>\n",
       "      <td>2023-09-13</td>\n",
       "    </tr>\n",
       "  </tbody>\n",
       "</table>\n",
       "</div>"
      ],
      "text/plain": [
       "   customer_id  store_id  address_id customer_firstname customer_lastname  \\\n",
       "0            1         1           1          Francoise     Rautenstrauch   \n",
       "1            2         1           2             Kendra              Loud   \n",
       "2            3         2           3            Lourdes          Bauswell   \n",
       "3            4         5           4             Hannah           Edmison   \n",
       "4            5         4           5                Tom             Loeza   \n",
       "\n",
       "                                       email create_date  \n",
       "0  francoise.rautenstrauch@rautenstrauch.com  2023-09-09  \n",
       "1                            kloud@gmail.com  2023-09-10  \n",
       "2                   lourdes_bauswell@aol.com  2023-09-11  \n",
       "3                           hannah@yahoo.com  2023-09-12  \n",
       "4                        tom.loeza@gmail.com  2023-09-13  "
      ]
     },
     "execution_count": 952,
     "metadata": {},
     "output_type": "execute_result"
    }
   ],
   "source": [
    "# testing that we pulled our data into dfs successfully\n",
    "\n",
    "customer_df.head()\n",
    "staff_df.head()\n",
    "customer_df.head()\n"
   ]
  },
  {
   "cell_type": "code",
   "execution_count": 953,
   "metadata": {},
   "outputs": [],
   "source": [
    "# TRANSFORM\n",
    "\n",
    "# concatinating the customer_firstname and customer_lastname columns in the staff table for later insertion into postgres database\n",
    "# concatinating the staff_firstname and staff_lastname columns in the staff table for later insertion into postgres database\n",
    "customer_df[\"customer_name\"] = customer_df[\"customer_firstname\"] + \" \" + customer_df[\"customer_lastname\"]\n",
    "staff_df[\"staff_name\"] = staff_df[\"staff_firstname\"] + \" \" + staff_df[\"staff_lastname\"]\n",
    "\n",
    "\n",
    "\n",
    "\n",
    "# selecting only the the columns I want to insert into postgres\n",
    "customer_df = customer_df[[\"customer_id\", \"store_id\", \"address_id\", \"customer_name\",\"email\",\"create_date\" ]]\n",
    "staff_df = staff_df[[\"staff_id\", \"store_id\", \"staff_name\",\"location\",\"staff_email\",\"username\",\"password\" ]]\n",
    "\n"
   ]
  },
  {
   "cell_type": "code",
   "execution_count": 954,
   "metadata": {},
   "outputs": [],
   "source": [
    "# creating table and executing to postgres\n",
    "\n",
    "style_table_create = (\"\"\"CREATE TABLE IF NOT EXISTS style(\n",
    "style_id INT PRIMARY KEY,\n",
    "style_name TEXT)                      \n",
    "\"\"\")\n",
    "\n",
    "cur.execute(style_table_create)\n",
    "conn.commit()"
   ]
  },
  {
   "cell_type": "code",
   "execution_count": 955,
   "metadata": {},
   "outputs": [],
   "source": [
    "brand_table_create = (\"\"\"CREATE TABLE IF NOT EXISTS brand(\n",
    "brand_id INT PRIMARY KEY,\n",
    "brand_name TEXT)                      \n",
    "\"\"\")\n",
    "\n",
    "cur.execute(brand_table_create)\n",
    "conn.commit ()                     "
   ]
  },
  {
   "cell_type": "code",
   "execution_count": 956,
   "metadata": {},
   "outputs": [],
   "source": [
    "sneaker_table_create = (\"\"\"CREATE TABLE IF NOT EXISTS sneaker(\n",
    "sneaker_id BIGINT PRIMARY KEY ,\n",
    "brand_id INT,\n",
    "style_id INT,\n",
    "store_id INT,\n",
    "sneaker_name TEXT,\n",
    "colorway TEXT,\n",
    "release_year TEXT,\n",
    "material TEXT,\n",
    "price FLOAT,\n",
    "size INT )                      \n",
    "\"\"\")\n",
    "\n",
    "cur.execute(sneaker_table_create)\n",
    "conn.commit ()                           \n",
    "                        "
   ]
  },
  {
   "cell_type": "code",
   "execution_count": 957,
   "metadata": {},
   "outputs": [],
   "source": [
    "payment_table_create = (\"\"\"CREATE TABLE IF NOT EXISTS payment(\n",
    "payment_id INT PRIMARY KEY,\n",
    "customer_id INT,\n",
    "staff_id INT,\n",
    "payment_date DATE,\n",
    "sneaker_id INT,\n",
    "quantity INT,\n",
    "amount INT)                      \n",
    "\"\"\")\n",
    "\n",
    "cur.execute(payment_table_create)\n",
    "conn.commit()                           \n",
    "             "
   ]
  },
  {
   "cell_type": "code",
   "execution_count": 958,
   "metadata": {},
   "outputs": [],
   "source": [
    "staff_table_create = (\"\"\"CREATE TABLE IF NOT EXISTS staff(\n",
    "staff_id INT PRIMARY KEY ,\n",
    "store_id INT,\n",
    "staff_name TEXT,\n",
    "location TEXT,\n",
    "staff_email TEXT,\n",
    "username TEXT,\n",
    "password TEXT )                      \n",
    "\"\"\")\n",
    "\n",
    "cur.execute(staff_table_create)\n",
    "conn.commit ()                           \n",
    "             "
   ]
  },
  {
   "cell_type": "code",
   "execution_count": 959,
   "metadata": {},
   "outputs": [],
   "source": [
    "customer_table_create = (\"\"\"CREATE TABLE IF NOT EXISTS customer(\n",
    "customer_id INT PRIMARY KEY,\n",
    "store_id INT,\n",
    "address_id INT,\n",
    "customer_name TEXT,\n",
    "email TEXT,\n",
    "create_date DATE)                      \n",
    "\"\"\")\n",
    "\n",
    "cur.execute(customer_table_create)\n",
    "conn.commit()                            \n",
    "             "
   ]
  },
  {
   "cell_type": "code",
   "execution_count": 960,
   "metadata": {},
   "outputs": [],
   "source": [
    "store_table_create = (\"\"\"CREATE TABLE IF NOT EXISTS store(\n",
    "store_id INT PRIMARY KEY,\n",
    "manager_staff_id INT,\n",
    "store_location TEXT,\n",
    "store_name TEXT )                      \n",
    "\"\"\")\n",
    "\n",
    "cur.execute(store_table_create)\n",
    "conn.commit ()"
   ]
  },
  {
   "cell_type": "code",
   "execution_count": 961,
   "metadata": {},
   "outputs": [],
   "source": [
    "address_table_create = (\"\"\"CREATE TABLE IF NOT EXISTS address(\n",
    "address_id INT PRIMARY KEY ,\n",
    "address TEXT,\n",
    "country_id INT,\n",
    "city TEXT,\n",
    "state TEXT,\n",
    "postal_code TEXT,\n",
    "phone TEXT )                      \n",
    "\"\"\")\n",
    "\n",
    "cur.execute(address_table_create)\n",
    "conn.commit()  "
   ]
  },
  {
   "cell_type": "code",
   "execution_count": 962,
   "metadata": {},
   "outputs": [],
   "source": [
    "country_table_create = (\"\"\"CREATE TABLE IF NOT EXISTS country(\n",
    "country_id INT PRIMARY KEY,\n",
    "country TEXT                      \n",
    ")\"\"\")\n",
    "\n",
    "cur.execute(country_table_create)\n",
    "conn.commit()"
   ]
  },
  {
   "cell_type": "code",
   "execution_count": 963,
   "metadata": {},
   "outputs": [],
   "source": [
    "# inserting column names into solesociety database\n",
    "\n",
    "style_df_table_insert = (\"\"\"INSERT INTO style(\n",
    "style_id,\n",
    "style_name)\n",
    "VALUES (%s,%s)                                                                           \n",
    "\"\"\")"
   ]
  },
  {
   "cell_type": "code",
   "execution_count": 964,
   "metadata": {},
   "outputs": [],
   "source": [
    "store_df_table_insert = (\"\"\"INSERT INTO store(\n",
    "store_id,\n",
    "manager_staff_id,\n",
    "store_location,\n",
    "store_name)\n",
    "VALUES(%s,%s,%s,%s)                         \n",
    "\"\"\")"
   ]
  },
  {
   "cell_type": "code",
   "execution_count": 965,
   "metadata": {},
   "outputs": [],
   "source": [
    "brand_df_table_insert = (\"\"\"INSERT INTO brand(\n",
    "brand_id,\n",
    "brand_name)\n",
    "VALUES(%s,%s)                         \n",
    "\"\"\")"
   ]
  },
  {
   "cell_type": "code",
   "execution_count": 966,
   "metadata": {},
   "outputs": [],
   "source": [
    "sneaker_df_table_insert = (\"\"\"INSERT INTO sneaker(\n",
    "sneaker_id,\n",
    "brand_id,\n",
    "style_id,\n",
    "store_id,\n",
    "sneaker_name,\n",
    "colorway,\n",
    "release_year,\n",
    "material,\n",
    "price,\n",
    "size)\n",
    "VALUES(%s,%s,%s,%s,%s,%s,%s,%s,%s,%s)\n",
    "\"\"\")"
   ]
  },
  {
   "cell_type": "code",
   "execution_count": 967,
   "metadata": {},
   "outputs": [],
   "source": [
    "payment_df_table_insert = (\"\"\"INSERT INTO payment(\n",
    "payment_id,\n",
    "customer_id,\n",
    "staff_id,\n",
    "payment_date,\n",
    "sneaker_id,\n",
    "quantity,\n",
    "amount)\n",
    "VALUES(%s,%s,%s,%s,%s,%s,%s)\n",
    "\"\"\")"
   ]
  },
  {
   "cell_type": "code",
   "execution_count": 968,
   "metadata": {},
   "outputs": [],
   "source": [
    "staff_df_table_insert = (\"\"\"INSERT INTO staff(\n",
    "staff_id,\n",
    "store_id,\n",
    "staff_name,\n",
    "location,\n",
    "staff_email,\n",
    "username,\n",
    "password)\n",
    "VALUES(%s,%s,%s,%s,%s,%s,%s)\n",
    "\"\"\")"
   ]
  },
  {
   "cell_type": "code",
   "execution_count": 969,
   "metadata": {},
   "outputs": [],
   "source": [
    "customer_df_table_insert = (\"\"\"INSERT INTO customer(\n",
    "customer_id,\n",
    "store_id,\n",
    "address_id,\n",
    "customer_name,\n",
    "email,\n",
    "create_date)\n",
    "VALUES(%s,%s,%s,%s,%s,%s)\n",
    "\"\"\")"
   ]
  },
  {
   "cell_type": "code",
   "execution_count": 970,
   "metadata": {},
   "outputs": [],
   "source": [
    "country_df_table_insert = (\"\"\"INSERT INTO country(\n",
    "country_id,\n",
    "country)\n",
    "VALUES(%s,%s)\n",
    "\"\"\")"
   ]
  },
  {
   "cell_type": "code",
   "execution_count": 971,
   "metadata": {},
   "outputs": [],
   "source": [
    "address_df_table_insert = (\"\"\"INSERT INTO address(\n",
    "address_id,\n",
    "address,\n",
    "country_id,\n",
    "city,\n",
    "state,\n",
    "postal_code,\n",
    "phone)\n",
    "VALUES(%s,%s,%s,%s,%s,%s,%s)\n",
    "\"\"\")"
   ]
  },
  {
   "cell_type": "code",
   "execution_count": 972,
   "metadata": {},
   "outputs": [],
   "source": [
    "# LOAD\n",
    "\n",
    "# loop that iterates through every row of the mentioned dataframe. this will hydrate each table we created with the designated dataframe\n",
    "\n",
    "for i, row in style_df.iterrows():\n",
    "        cur.execute(style_df_table_insert, list(row))\n",
    "\n",
    "conn.commit()\n"
   ]
  },
  {
   "cell_type": "code",
   "execution_count": 973,
   "metadata": {},
   "outputs": [],
   "source": [
    "for i, row in brand_df.iterrows():\n",
    "        cur.execute(brand_df_table_insert, list(row))\n",
    "\n",
    "conn.commit()\n"
   ]
  },
  {
   "cell_type": "code",
   "execution_count": 974,
   "metadata": {},
   "outputs": [],
   "source": [
    "for i, row in sneaker_df.iterrows():\n",
    "        cur.execute(sneaker_df_table_insert, list(row))\n",
    "\n",
    "conn.commit()"
   ]
  },
  {
   "cell_type": "code",
   "execution_count": 975,
   "metadata": {},
   "outputs": [],
   "source": [
    "for i, row in payment_df.iterrows():\n",
    "        cur.execute(payment_df_table_insert, list(row))\n",
    "\n",
    "conn.commit()"
   ]
  },
  {
   "cell_type": "code",
   "execution_count": 976,
   "metadata": {},
   "outputs": [],
   "source": [
    "for i, row in store_df.iterrows():\n",
    "        cur.execute(store_df_table_insert, list(row))\n",
    "\n",
    "conn.commit()"
   ]
  },
  {
   "cell_type": "code",
   "execution_count": 977,
   "metadata": {},
   "outputs": [],
   "source": [
    "for i, row in staff_df.iterrows():\n",
    "        cur.execute(staff_df_table_insert, list(row))\n",
    "\n",
    "conn.commit()\n"
   ]
  },
  {
   "cell_type": "code",
   "execution_count": 978,
   "metadata": {},
   "outputs": [],
   "source": [
    "for i, row in customer_df.iterrows():\n",
    "        cur.execute(customer_df_table_insert, list(row))\n",
    "\n",
    "conn.commit()\n"
   ]
  },
  {
   "cell_type": "code",
   "execution_count": 979,
   "metadata": {},
   "outputs": [],
   "source": [
    "for i, row in address_df.iterrows():\n",
    "        cur.execute(address_df_table_insert, list(row))\n",
    "\n",
    "conn.commit()"
   ]
  },
  {
   "cell_type": "code",
   "execution_count": 980,
   "metadata": {},
   "outputs": [],
   "source": [
    "for i, row in country_df.iterrows():\n",
    "        cur.execute(country_df_table_insert, list(row))\n",
    "\n",
    "conn.commit()"
   ]
  }
 ],
 "metadata": {
  "kernelspec": {
   "display_name": "Python 3",
   "language": "python",
   "name": "python3"
  },
  "language_info": {
   "codemirror_mode": {
    "name": "ipython",
    "version": 3
   },
   "file_extension": ".py",
   "mimetype": "text/x-python",
   "name": "python",
   "nbconvert_exporter": "python",
   "pygments_lexer": "ipython3",
   "version": "3.11.5"
  },
  "orig_nbformat": 4
 },
 "nbformat": 4,
 "nbformat_minor": 2
}
